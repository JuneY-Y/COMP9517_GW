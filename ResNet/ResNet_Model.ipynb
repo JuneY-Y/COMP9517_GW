{
 "cells": [
  {
   "cell_type": "code",
   "execution_count": null,
   "id": "b70548c0-5f0f-4690-980d-1ea2ba880f2b",
   "metadata": {},
   "outputs": [],
   "source": [
    "import torch\n",
    "from torch import nn\n",
    "from torchvision import datasets, transforms, models\n",
    "from torch.utils.data import DataLoader\n",
    "import cv2\n",
    "import matplotlib.pyplot as plt\n",
    "import train_and_test_model\n",
    "from train_and_test_model import trainModel,testModel,attention_map\n",
    "from torchvision.transforms import TrivialAugmentWide,AutoAugment, AutoAugmentPolicy\n",
    "from ResNet_Classifier import classifierTrain"
   ]
  },
  {
   "cell_type": "markdown",
   "id": "af31e6ba-01c5-48bb-b2aa-5bed0c79c115",
   "metadata": {},
   "source": [
    "## Load Dataset"
   ]
  },
  {
   "cell_type": "code",
   "execution_count": null,
   "id": "2c09d10d-d67a-4986-b14a-69cb216157b6",
   "metadata": {},
   "outputs": [],
   "source": [
    "mean = [0.485, 0.456, 0.406]\n",
    "std = [0.229, 0.224, 0.225]\n",
    "\n",
    "transform = transforms.Compose([\n",
    "    transforms.Resize((224, 224)),\n",
    "    transforms.ToTensor(),\n",
    "    transforms.Normalize(mean, std)\n",
    "])\n",
    "\n",
    "transform_aug = transforms.Compose([\n",
    "    transforms.Resize((224, 224)),\n",
    "    TrivialAugmentWide(),\n",
    "    transforms.ToTensor(),\n",
    "    transforms.Normalize(mean, std)\n",
    "])\n",
    "\n",
    "# transform_aug = transforms.Compose([\n",
    "#     AutoAugment(policy=AutoAugmentPolicy.IMAGENET),\n",
    "#     transforms.Resize((224, 224)),\n",
    "#     transforms.ToTensor(),\n",
    "#     transforms.Normalize(mean, std)\n",
    "# ])\n",
    "\n",
    "# transform_aug = transforms.Compose([\n",
    "#     transforms.Resize(256),\n",
    "#     transforms.RandomResizedCrop(224),\n",
    "#     #transforms.RandomHorizontalFlip(p=0.5),\n",
    "#     #transforms.ColorJitter(brightness=0.2, contrast=0.2, saturation=0.2, hue=0.1),\n",
    "#     transforms.Normalize(mean, std)\n",
    "# ])"
   ]
  },
  {
   "cell_type": "code",
   "execution_count": null,
   "id": "f277f316-6269-4c96-9266-ff533330c1c8",
   "metadata": {},
   "outputs": [],
   "source": [
    "train_dataset_origin = datasets.ImageFolder(root='./datasets/train', transform=transform)\n",
    "train_loader_origin = DataLoader(train_dataset_origin, batch_size=32, shuffle=True, num_workers=4, pin_memory=True)\n",
    "\n",
    "test_dataset_origin = datasets.ImageFolder(root='./datasets/test', transform=transform)\n",
    "test_loader_origin = DataLoader(test_dataset_origin, batch_size=32, shuffle=False, num_workers=4, pin_memory=True)\n",
    "\n",
    "val_dataset_origin = datasets.ImageFolder(root='./datasets/val', transform=transform)\n",
    "val_loader_origin = DataLoader(val_dataset_origin, batch_size=32, shuffle=False, num_workers=4, pin_memory=True)\n",
    "\n",
    "train_dataset_aug = datasets.ImageFolder(root='./datasets/train', transform=transform_aug)\n",
    "train_loader_aug = DataLoader(train_dataset_aug, batch_size=32, shuffle=True, num_workers=4, pin_memory=True)\n",
    "\n",
    "val_dataset_aug = datasets.ImageFolder(root='./datasets/val', transform=transform_aug)\n",
    "val_loader_aug = DataLoader(val_dataset_aug, batch_size=32, shuffle=True, num_workers=4, pin_memory=True)\n",
    "\n",
    "perturbation_l1 = datasets.ImageFolder(root='./datasets_l1', transform=transform)\n",
    "test_loader_l1 = DataLoader(perturbation_l1, batch_size=32, shuffle=False, num_workers=4, pin_memory=True)\n",
    "\n",
    "perturbation_l2 = datasets.ImageFolder(root='./datasets_l2', transform=transform)\n",
    "test_loader_l2 = DataLoader(perturbation_l2, batch_size=32, shuffle=False, num_workers=4, pin_memory=True)\n",
    "\n",
    "perturbation_l3 = datasets.ImageFolder(root='./datasets_l3', transform=transform)\n",
    "test_loader_l3 = DataLoader(perturbation_l3, batch_size=32, shuffle=False, num_workers=4, pin_memory=True)"
   ]
  },
  {
   "cell_type": "code",
   "execution_count": null,
   "id": "b974cdc3-797a-475f-a82e-febd0e51dec1",
   "metadata": {},
   "outputs": [],
   "source": [
    "def show_augmented_image(ori, aug, index=0):\n",
    "    img_ori, label_ori = ori[index]\n",
    "    img_aug, label_aug = aug[index]\n",
    "    img_ori = img_ori.permute(1, 2, 0)  # CHW -> HWC\n",
    "    img_aug = img_aug.permute(1, 2, 0)  # CHW -> HWC\n",
    "    img_ori = img_ori * torch.tensor([0.229, 0.224, 0.225]) + torch.tensor([0.485, 0.456, 0.406])  # unnormalize\n",
    "    img_aug = img_aug * torch.tensor([0.229, 0.224, 0.225]) + torch.tensor([0.485, 0.456, 0.406])  # unnormalize\n",
    "    img_ori = img_ori.clip(0, 1)\n",
    "    img_aug = img_aug.clip(0, 1)\n",
    "    plt.figure(figsize=(6,8))\n",
    "    plt.subplot(1,2,1)\n",
    "    plt.imshow(img_ori)\n",
    "    plt.title(f\" Original\")\n",
    "    plt.axis('off')\n",
    "\n",
    "    plt.subplot(1,2,2)\n",
    "    plt.imshow(img_aug)\n",
    "    plt.title(f\" Augmentation\")\n",
    "    plt.axis('off')\n",
    "    plt.show()\n",
    "\n",
    "show_augmented_image(train_dataset_origin, train_dataset_aug, 10)"
   ]
  },
  {
   "cell_type": "markdown",
   "id": "687c22c4-eb6b-4120-9e7c-4cc54648b55a",
   "metadata": {},
   "source": [
    "## Fine-tuning Test"
   ]
  },
  {
   "cell_type": "markdown",
   "id": "d85c972f-af82-47a8-bf2b-65a45f810f49",
   "metadata": {},
   "source": [
    "### Summary\n",
    "- ResNet18 origin_acc: 91.06% aug_acc: 92.22%\n",
    "- ResNet50 origin_acc: 93.17% aug_acc: 93.78%\n",
    "- ResNet101 origin_acc: 92.44% aug_acc: 93.33%"
   ]
  },
  {
   "cell_type": "markdown",
   "id": "b1c4c5a9-a45d-4db4-acda-b0995f4cccba",
   "metadata": {
    "jp-MarkdownHeadingCollapsed": true
   },
   "source": [
    "### ResNet18 + LongTail Experiment/ Data Augmentation"
   ]
  },
  {
   "cell_type": "code",
   "execution_count": null,
   "id": "524a4653-1786-41c5-89f6-04c6b5a42d7e",
   "metadata": {
    "collapsed": true,
    "jupyter": {
     "outputs_hidden": true
    },
    "scrolled": true
   },
   "outputs": [],
   "source": [
    "trainModel(18,train_loader_origin,val_loader_origin,'origin')\n",
    "testModel(18,test_loader_origin,'origin')"
   ]
  },
  {
   "cell_type": "code",
   "execution_count": null,
   "id": "d6e40361-a6d5-4779-9d12-20999029253f",
   "metadata": {
    "collapsed": true,
    "jupyter": {
     "outputs_hidden": true
    },
    "scrolled": true
   },
   "outputs": [],
   "source": [
    "trainModel(18,train_loader_aug,val_loader_aug,'aug')\n",
    "testModel(18,test_loader_origin,'aug')"
   ]
  },
  {
   "cell_type": "markdown",
   "id": "9c246352-61df-435c-aa24-9e20f7dd4479",
   "metadata": {},
   "source": [
    "### ResNet50 + LongTail Experiment/ Data Augmentation"
   ]
  },
  {
   "cell_type": "code",
   "execution_count": null,
   "id": "5068d1c9-822f-4be8-b9c8-89002abafdce",
   "metadata": {
    "collapsed": true,
    "jupyter": {
     "outputs_hidden": true
    },
    "scrolled": true
   },
   "outputs": [],
   "source": [
    "trainModel(50,train_loader_origin,val_loader_origin,'origin')\n",
    "testModel(50,test_loader_origin,'origin')"
   ]
  },
  {
   "cell_type": "code",
   "execution_count": null,
   "id": "470fcb87-2d7a-4686-ae36-1195eb5e04fa",
   "metadata": {
    "collapsed": true,
    "jupyter": {
     "outputs_hidden": true
    },
    "scrolled": true
   },
   "outputs": [],
   "source": [
    "trainModel(50,train_loader_aug,val_loader_aug,'aug')\n",
    "testModel(50,test_loader_origin,'aug')"
   ]
  },
  {
   "cell_type": "code",
   "execution_count": null,
   "id": "4b4ed9d9-b2d5-4b53-875e-6c3b5f96307e",
   "metadata": {
    "collapsed": true,
    "jupyter": {
     "outputs_hidden": true
    }
   },
   "outputs": [],
   "source": [
    "attention_map(50,test_loader_origin,'aug')"
   ]
  },
  {
   "cell_type": "markdown",
   "id": "9faba839-f950-4ac3-ab8f-33c2a024be8d",
   "metadata": {},
   "source": [
    "### ResNet101 + LongTail Experiment/ Data Augmentation"
   ]
  },
  {
   "cell_type": "code",
   "execution_count": null,
   "id": "45731f57-ca2a-48ce-bd4c-65997719c0f6",
   "metadata": {
    "collapsed": true,
    "jupyter": {
     "outputs_hidden": true
    },
    "scrolled": true
   },
   "outputs": [],
   "source": [
    "trainModel(101,train_loader_origin,val_loader_origin,'origin')\n",
    "testModel(101,test_loader_origin,'origin')"
   ]
  },
  {
   "cell_type": "code",
   "execution_count": null,
   "id": "75eafb2e-ce74-4243-87cb-a8bc37aa99b1",
   "metadata": {
    "collapsed": true,
    "jupyter": {
     "outputs_hidden": true
    },
    "scrolled": true
   },
   "outputs": [],
   "source": [
    "trainModel(101,train_loader_aug,val_loader_aug,'aug')\n",
    "testModel(101,test_loader_origin,'aug')"
   ]
  },
  {
   "cell_type": "markdown",
   "id": "21c20a48-c186-4879-889e-29b5e8c8ef7e",
   "metadata": {},
   "source": [
    "## SVM Classfier"
   ]
  },
  {
   "cell_type": "markdown",
   "id": "06c4f760-8cc7-42f0-8237-8bfd2d53d528",
   "metadata": {},
   "source": [
    "### Summary\n",
    "- ResNet18 origin_acc: 94.16%\n",
    "- ResNet50 origin_acc: 96.11%\n",
    "- ResNet101 origin_acc: 94.66%\n",
    "\n",
    "Data perturbation on ResNet50 + SVM\n",
    "- L1: 93.44%\n",
    "- L2: 83.33%\n",
    "- L3: 59.61%\n",
    "\n",
    "Different Classifier on ResNet50:\n",
    "- SVM: 96.11%\n",
    "- KNN: 88.33%\n",
    "- MLP: 94.77%\n",
    "- Proto: 81.2%"
   ]
  },
  {
   "cell_type": "code",
   "execution_count": null,
   "id": "7cb83533-d247-4740-95d1-d91f2068a5c4",
   "metadata": {
    "collapsed": true,
    "jupyter": {
     "outputs_hidden": true
    }
   },
   "outputs": [],
   "source": [
    "classifierTrain(18,train_loader_origin,test_loader_origin,'SVM')"
   ]
  },
  {
   "cell_type": "code",
   "execution_count": null,
   "id": "d68fff47-23d4-4600-b016-961d0f1d7c2b",
   "metadata": {
    "collapsed": true,
    "jupyter": {
     "outputs_hidden": true
    }
   },
   "outputs": [],
   "source": [
    "classifierTrain(50,train_loader_origin,test_loader_origin,'SVM')"
   ]
  },
  {
   "cell_type": "code",
   "execution_count": null,
   "id": "87ad3037-7569-4bc7-82f2-bd556f891869",
   "metadata": {
    "collapsed": true,
    "jupyter": {
     "outputs_hidden": true
    },
    "scrolled": true
   },
   "outputs": [],
   "source": [
    "# data pertubation level1\n",
    "classifierTrain(50,train_loader_origin,test_loader_l1,'SVM')"
   ]
  },
  {
   "cell_type": "code",
   "execution_count": null,
   "id": "f5c48fac-9167-4ec4-9d40-6d72cacce069",
   "metadata": {
    "collapsed": true,
    "jupyter": {
     "outputs_hidden": true
    }
   },
   "outputs": [],
   "source": [
    "# data pertubation level2\n",
    "classifierTrain(50,train_loader_origin,test_loader_l2,'SVM')"
   ]
  },
  {
   "cell_type": "code",
   "execution_count": null,
   "id": "33f76af0-96b7-43b1-adf2-aec85fa1edb9",
   "metadata": {
    "collapsed": true,
    "jupyter": {
     "outputs_hidden": true
    }
   },
   "outputs": [],
   "source": [
    "# data pertubation level3\n",
    "classifierTrain(50,train_loader_origin,test_loader_l3,'SVM')"
   ]
  },
  {
   "cell_type": "code",
   "execution_count": null,
   "id": "77339711-4992-4a76-80d9-f69454273ab1",
   "metadata": {
    "collapsed": true,
    "jupyter": {
     "outputs_hidden": true
    }
   },
   "outputs": [],
   "source": [
    "classifierTrain(50,train_loader_origin,test_loader_origin,'KNN')"
   ]
  },
  {
   "cell_type": "code",
   "execution_count": null,
   "id": "09c5b26b-ac8e-4855-ade7-a4752146b70f",
   "metadata": {
    "collapsed": true,
    "jupyter": {
     "outputs_hidden": true
    }
   },
   "outputs": [],
   "source": [
    "classifierTrain(50,train_loader_origin,test_loader_origin,'MLP')"
   ]
  },
  {
   "cell_type": "code",
   "execution_count": null,
   "id": "59299820-e251-44e9-aab1-79b1434478e5",
   "metadata": {
    "collapsed": true,
    "jupyter": {
     "outputs_hidden": true
    }
   },
   "outputs": [],
   "source": [
    "classifierTrain(50,train_loader_origin,test_loader_origin,'Proto')"
   ]
  },
  {
   "cell_type": "code",
   "execution_count": null,
   "id": "66c7cfdc-f067-4bdb-b7e1-b35e5464d351",
   "metadata": {
    "collapsed": true,
    "jupyter": {
     "outputs_hidden": true
    }
   },
   "outputs": [],
   "source": [
    "classifierTrain(50,train_loader_aug,test_loader_origin,'SVM')"
   ]
  },
  {
   "cell_type": "code",
   "execution_count": null,
   "id": "7ec691fd-774e-40b6-86f6-565d62f1d17b",
   "metadata": {
    "collapsed": true,
    "jupyter": {
     "outputs_hidden": true
    }
   },
   "outputs": [],
   "source": [
    "classifierTrain(101,train_loader_origin,test_loader_origin,'SVM')"
   ]
  },
  {
   "cell_type": "code",
   "execution_count": null,
   "id": "49cb19f4-9cb9-47a9-8a45-e2ea4de6c69c",
   "metadata": {
    "collapsed": true,
    "jupyter": {
     "outputs_hidden": true
    }
   },
   "outputs": [],
   "source": [
    "classifierTrain(101,train_loader_aug,test_loader_origin,'SVM')"
   ]
  }
 ],
 "metadata": {
  "kernelspec": {
   "display_name": "Python 3 (ipykernel)",
   "language": "python",
   "name": "python3"
  },
  "language_info": {
   "codemirror_mode": {
    "name": "ipython",
    "version": 3
   },
   "file_extension": ".py",
   "mimetype": "text/x-python",
   "name": "python",
   "nbconvert_exporter": "python",
   "pygments_lexer": "ipython3",
   "version": "3.12.9"
  }
 },
 "nbformat": 4,
 "nbformat_minor": 5
}
