{
 "cells": [
  {
   "cell_type": "code",
   "execution_count": null,
   "id": "1f8e67ce-aa17-4594-b922-f0746d4920fe",
   "metadata": {},
   "outputs": [],
   "source": [
    "import torch\n",
    "from torch import nn\n",
    "from torchvision import datasets, transforms, models\n",
    "from torch.utils.data import DataLoader\n",
    "import matplotlib.pyplot as plt\n",
    "import train_and_test_model\n",
    "from train_and_test_model import trainModel,testModel\n",
    "from torchvision.transforms import TrivialAugmentWide,AutoAugment, AutoAugmentPolicy\n",
    "from ResNet_Classifier import classifierTrain"
   ]
  },
  {
   "cell_type": "code",
   "execution_count": null,
   "id": "78cc765a-c793-4281-b10a-c5479fc5633d",
   "metadata": {},
   "outputs": [],
   "source": [
    "mean = [0.485, 0.456, 0.406]\n",
    "std = [0.229, 0.224, 0.225]\n",
    "\n",
    "transform = transforms.Compose([\n",
    "    transforms.Resize((224, 224)),  # ResNet 通常用224×224\n",
    "    transforms.ToTensor(),\n",
    "    transforms.Normalize(mean, std)\n",
    "])\n",
    "\n",
    "train_dataset_origin = datasets.ImageFolder(root='./datasets/train', transform=transform)\n",
    "train_loader_origin = DataLoader(train_dataset_origin, batch_size=32, shuffle=True, num_workers=4, pin_memory=True)\n",
    "\n",
    "test_dataset_origin = datasets.ImageFolder(root='./datasets/test', transform=transform)\n",
    "test_loader_origin = DataLoader(test_dataset_origin, batch_size=32, shuffle=False, num_workers=4, pin_memory=True)\n",
    "\n",
    "val_dataset_origin = datasets.ImageFolder(root='./datasets/val', transform=transform)\n",
    "val_loader_origin = DataLoader(val_dataset_origin, batch_size=32, shuffle=False, num_workers=4, pin_memory=True)\n"
   ]
  },
  {
   "cell_type": "markdown",
   "id": "226b0440-8b8d-4d63-b970-df46b852f47e",
   "metadata": {},
   "source": [
    "## BaseLine: ResNet-50 + SVM Classifier"
   ]
  },
  {
   "cell_type": "code",
   "execution_count": null,
   "id": "2101538b-5ebc-4847-b74f-49d8a79b6a70",
   "metadata": {
    "collapsed": true,
    "jupyter": {
     "outputs_hidden": true
    }
   },
   "outputs": [],
   "source": [
    "classifierTrain(50,train_loader_origin,test_loader_origin,'SVM')"
   ]
  },
  {
   "cell_type": "markdown",
   "id": "7a89e6c3-6785-4638-be68-7afc2d7250ab",
   "metadata": {},
   "source": [
    "## Experienment 1: change Resnet layer"
   ]
  },
  {
   "cell_type": "code",
   "execution_count": null,
   "id": "96cfcfcd-2e78-4a7f-a12d-b0dd5a849d99",
   "metadata": {
    "collapsed": true,
    "jupyter": {
     "outputs_hidden": true
    }
   },
   "outputs": [],
   "source": [
    "classifierTrain(18,train_loader_origin,test_loader_origin,'SVM')"
   ]
  },
  {
   "cell_type": "code",
   "execution_count": null,
   "id": "ff3daf0c-3758-484c-b0a8-533adfc87a23",
   "metadata": {
    "collapsed": true,
    "jupyter": {
     "outputs_hidden": true
    }
   },
   "outputs": [],
   "source": [
    "classifierTrain(101,train_loader_origin,test_loader_origin,'SVM')"
   ]
  },
  {
   "cell_type": "markdown",
   "id": "486f52f5-b432-4fa4-9cfd-d88b783eb1c8",
   "metadata": {},
   "source": [
    "## Experienment 2: change Classifier"
   ]
  },
  {
   "cell_type": "code",
   "execution_count": null,
   "id": "f240399c-34d1-4379-b58e-b1f95cc0e080",
   "metadata": {
    "collapsed": true,
    "jupyter": {
     "outputs_hidden": true
    }
   },
   "outputs": [],
   "source": [
    "classifierTrain(50,train_loader_origin,test_loader_origin,'KNN')"
   ]
  },
  {
   "cell_type": "code",
   "execution_count": null,
   "id": "4166e019-e7db-4c2f-a820-9520823ae14f",
   "metadata": {
    "collapsed": true,
    "jupyter": {
     "outputs_hidden": true
    }
   },
   "outputs": [],
   "source": [
    "classifierTrain(50,train_loader_origin,test_loader_origin,'MLP')"
   ]
  },
  {
   "cell_type": "code",
   "execution_count": null,
   "id": "bcd8277d-e313-41e3-b486-9d4ceb169e66",
   "metadata": {
    "collapsed": true,
    "jupyter": {
     "outputs_hidden": true
    }
   },
   "outputs": [],
   "source": [
    "classifierTrain(50,train_loader_origin,test_loader_origin,'Proto')"
   ]
  },
  {
   "cell_type": "markdown",
   "id": "3edbe762-4e62-4907-b2e9-443d21cfbe55",
   "metadata": {},
   "source": [
    "## Experienment 3: use fine-tuning"
   ]
  },
  {
   "cell_type": "code",
   "execution_count": null,
   "id": "ab58f50b-3a22-470d-beeb-54c60d7fd76c",
   "metadata": {
    "collapsed": true,
    "jupyter": {
     "outputs_hidden": true
    }
   },
   "outputs": [],
   "source": [
    "trainModel(50,train_loader_origin,val_loader_origin,'origin')\n",
    "testModel(50,test_loader_origin,'origin')"
   ]
  }
 ],
 "metadata": {
  "kernelspec": {
   "display_name": "Python 3 (ipykernel)",
   "language": "python",
   "name": "python3"
  },
  "language_info": {
   "codemirror_mode": {
    "name": "ipython",
    "version": 3
   },
   "file_extension": ".py",
   "mimetype": "text/x-python",
   "name": "python",
   "nbconvert_exporter": "python",
   "pygments_lexer": "ipython3",
   "version": "3.12.9"
  }
 },
 "nbformat": 4,
 "nbformat_minor": 5
}
