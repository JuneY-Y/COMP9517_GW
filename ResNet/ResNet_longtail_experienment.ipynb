{
 "cells": [
  {
   "cell_type": "code",
   "execution_count": 7,
   "id": "afafcd42-b8d9-4920-aa00-1a1f9221b6b5",
   "metadata": {},
   "outputs": [],
   "source": [
    "from torchvision import datasets, transforms, models\n",
    "from torch.utils.data import DataLoader\n",
    "from ResNet_Classifier import classifierTrain\n",
    "from torch.utils.data import WeightedRandomSampler, DataLoader\n",
    "import numpy as np\n",
    "import torch"
   ]
  },
  {
   "cell_type": "code",
   "execution_count": null,
   "id": "724ea79b-4b48-4ed8-a09a-d0f2d04f63e0",
   "metadata": {},
   "outputs": [],
   "source": [
    "mean = [0.485, 0.456, 0.406]\n",
    "std = [0.229, 0.224, 0.225]\n",
    "\n",
    "transform = transforms.Compose([\n",
    "    transforms.Resize((224, 224)), \n",
    "    transforms.ToTensor(),\n",
    "    transforms.Normalize(mean, std)\n",
    "])"
   ]
  },
  {
   "cell_type": "code",
   "execution_count": 9,
   "id": "bda4de2b-229c-4c4e-94f9-2c54efe9e3a4",
   "metadata": {},
   "outputs": [],
   "source": [
    "train_dataset_longtail = datasets.ImageFolder(root='./datasets_longtail/train', transform=transform)\n",
    "train_loader_longtail = DataLoader(train_dataset_longtail, batch_size=32, shuffle=True, num_workers=4, pin_memory=True)\n",
    "\n",
    "test_dataset_longtail = datasets.ImageFolder(root='./datasets_longtail/test', transform=transform)\n",
    "test_loader_longtail = DataLoader(test_dataset_longtail, batch_size=32, shuffle=False, num_workers=4, pin_memory=True)"
   ]
  },
  {
   "cell_type": "code",
   "execution_count": 10,
   "id": "0bfcb657-06e6-43d6-8b2e-2a230020ff34",
   "metadata": {},
   "outputs": [
    {
     "name": "stdout",
     "output_type": "stream",
     "text": [
      "ResNet50 SVM Test Accuracy:0.9055555555555556\n",
      "\n",
      " Classification Report:\n",
      "              precision    recall  f1-score   support\n",
      "\n",
      "           0     0.8380    0.9917    0.9084       120\n",
      "           1     0.7126    0.9917    0.8293       120\n",
      "           2     0.9160    1.0000    0.9562       120\n",
      "           3     0.8682    0.9333    0.8996       120\n",
      "           4     0.9360    0.9750    0.9551       120\n",
      "           5     0.9256    0.9333    0.9295       120\n",
      "           6     0.9487    0.9250    0.9367       120\n",
      "           7     0.9412    0.9333    0.9372       120\n",
      "           8     0.8730    0.9167    0.8943       120\n",
      "           9     0.9244    0.9167    0.9205       120\n",
      "          10     0.9669    0.9750    0.9710       120\n",
      "          11     0.9712    0.8417    0.9018       120\n",
      "          12     0.9560    0.7250    0.8246       120\n",
      "          13     0.9817    0.8917    0.9345       120\n",
      "          14     0.9620    0.6333    0.7638       120\n",
      "\n",
      "    accuracy                         0.9056      1800\n",
      "   macro avg     0.9148    0.9056    0.9042      1800\n",
      "weighted avg     0.9148    0.9056    0.9042      1800\n",
      "\n",
      " Confusion Matrix:\n",
      "[[119   0   0   0   0   0   1   0   0   0   0   0   0   0   0]\n",
      " [  0 119   0   0   0   0   0   0   0   0   0   1   0   0   0]\n",
      " [  0   0 120   0   0   0   0   0   0   0   0   0   0   0   0]\n",
      " [  0   2   0 112   0   0   0   0   0   0   1   1   3   1   0]\n",
      " [  0   0   1   0 117   0   0   0   0   2   0   0   0   0   0]\n",
      " [  0   0   1   0   0 112   5   0   0   1   0   0   0   1   0]\n",
      " [  0   2   0   0   0   5 111   2   0   0   0   0   0   0   0]\n",
      " [  1   2   0   1   0   2   0 112   0   0   1   0   1   0   0]\n",
      " [  6   1   2   0   0   0   0   0 110   0   0   0   0   0   1]\n",
      " [  0   0   0   0   8   1   0   0   0 110   0   0   0   0   1]\n",
      " [  1   1   0   1   0   0   0   0   0   0 117   0   0   0   0]\n",
      " [  0   7   1   4   0   0   0   0   5   0   2 101   0   0   0]\n",
      " [  2  20   0   7   0   0   0   4   0   0   0   0  87   0   0]\n",
      " [  2   5   0   4   0   0   0   0   1   0   0   0   0 107   1]\n",
      " [ 11   8   6   0   0   1   0   1  10   6   0   1   0   0  76]]\n"
     ]
    }
   ],
   "source": [
    "classifierTrain(50,train_loader_longtail,test_loader_longtail,'SVM')"
   ]
  },
  {
   "cell_type": "code",
   "execution_count": null,
   "id": "f9bb2f8c-5c7a-4f36-afbd-27078670f01e",
   "metadata": {},
   "outputs": [],
   "source": [
    "targets = train_dataset_longtail.targets\n",
    "class_counts = np.bincount(targets)\n",
    "num_classes = len(class_counts)\n",
    "\n",
    "class_weights = 1. / class_counts\n",
    "sample_weights = [class_weights[t] for t in targets]\n",
    "sample_weights = torch.DoubleTensor(sample_weights)\n",
    "\n",
    "sampler = WeightedRandomSampler(weights=sample_weights,\n",
    "                                num_samples=len(sample_weights),\n",
    "                                replacement=True)\n",
    "\n",
    "train_loader_resampling = DataLoader(train_dataset_longtail,\n",
    "                                   batch_size=32,\n",
    "                                   sampler=sampler,\n",
    "                                   num_workers=4,\n",
    "                                   pin_memory=True)"
   ]
  },
  {
   "cell_type": "code",
   "execution_count": 12,
   "id": "d5118c87-0266-4113-a76b-4224b6872c77",
   "metadata": {},
   "outputs": [
    {
     "name": "stdout",
     "output_type": "stream",
     "text": [
      "ResNet50 SVM Test Accuracy:0.9083333333333333\n",
      "\n",
      " Classification Report:\n",
      "              precision    recall  f1-score   support\n",
      "\n",
      "           0     0.8984    0.9583    0.9274       120\n",
      "           1     0.7532    0.9667    0.8467       120\n",
      "           2     0.9350    0.9583    0.9465       120\n",
      "           3     0.8740    0.9250    0.8988       120\n",
      "           4     0.9431    0.9667    0.9547       120\n",
      "           5     0.9174    0.9250    0.9212       120\n",
      "           6     0.9316    0.9083    0.9198       120\n",
      "           7     0.9402    0.9167    0.9283       120\n",
      "           8     0.8271    0.9167    0.8696       120\n",
      "           9     0.9106    0.9333    0.9218       120\n",
      "          10     0.9587    0.9667    0.9627       120\n",
      "          11     0.9474    0.9000    0.9231       120\n",
      "          12     0.9485    0.7667    0.8479       120\n",
      "          13     0.9730    0.9000    0.9351       120\n",
      "          14     0.9451    0.7167    0.8152       120\n",
      "\n",
      "    accuracy                         0.9083      1800\n",
      "   macro avg     0.9135    0.9083    0.9079      1800\n",
      "weighted avg     0.9135    0.9083    0.9079      1800\n",
      "\n",
      " Confusion Matrix:\n",
      "[[115   0   0   0   0   0   2   0   2   0   0   0   0   0   1]\n",
      " [  0 116   0   1   0   0   0   0   1   0   0   1   1   0   0]\n",
      " [  0   0 115   0   1   0   0   0   3   0   0   1   0   0   0]\n",
      " [  0   2   0 111   0   0   0   0   0   0   1   2   3   1   0]\n",
      " [  0   0   1   0 116   0   0   0   1   2   0   0   0   0   0]\n",
      " [  0   0   1   0   0 111   6   0   0   1   0   0   0   1   0]\n",
      " [  0   2   0   0   0   7 109   2   0   0   0   0   0   0   0]\n",
      " [  1   3   0   1   0   2   0 110   1   0   1   0   1   0   0]\n",
      " [  5   0   0   0   0   0   0   0 110   1   0   1   0   1   2]\n",
      " [  0   0   0   0   6   1   0   0   0 112   0   0   0   0   1]\n",
      " [  2   0   0   2   0   0   0   0   0   0 116   0   0   0   0]\n",
      " [  0   2   1   3   0   0   0   0   3   0   3 108   0   0   0]\n",
      " [  0  20   0   4   0   0   0   4   0   0   0   0  92   0   0]\n",
      " [  2   4   0   4   0   0   0   0   1   0   0   0   0 108   1]\n",
      " [  3   5   5   1   0   0   0   1  11   7   0   1   0   0  86]]\n"
     ]
    }
   ],
   "source": [
    "classifierTrain(50,train_loader_resampling,test_loader_longtail,'SVM')"
   ]
  }
 ],
 "metadata": {
  "kernelspec": {
   "display_name": "Python 3 (ipykernel)",
   "language": "python",
   "name": "python3"
  },
  "language_info": {
   "codemirror_mode": {
    "name": "ipython",
    "version": 3
   },
   "file_extension": ".py",
   "mimetype": "text/x-python",
   "name": "python",
   "nbconvert_exporter": "python",
   "pygments_lexer": "ipython3",
   "version": "3.12.9"
  }
 },
 "nbformat": 4,
 "nbformat_minor": 5
}
