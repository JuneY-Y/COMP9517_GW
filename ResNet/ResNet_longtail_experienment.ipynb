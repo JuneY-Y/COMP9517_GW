{
 "cells": [
  {
   "cell_type": "code",
   "execution_count": null,
   "id": "afafcd42-b8d9-4920-aa00-1a1f9221b6b5",
   "metadata": {},
   "outputs": [],
   "source": [
    "from torchvision import datasets, transforms, models\n",
    "from torch.utils.data import DataLoader\n",
    "from ResNet_Classifier import classifierTrain\n",
    "from torch.utils.data import WeightedRandomSampler, DataLoader\n",
    "import numpy as np\n",
    "import torch"
   ]
  },
  {
   "cell_type": "code",
   "execution_count": null,
   "id": "724ea79b-4b48-4ed8-a09a-d0f2d04f63e0",
   "metadata": {},
   "outputs": [],
   "source": [
    "mean = [0.485, 0.456, 0.406]\n",
    "std = [0.229, 0.224, 0.225]\n",
    "\n",
    "transform = transforms.Compose([\n",
    "    transforms.Resize((224, 224)), \n",
    "    transforms.ToTensor(),\n",
    "    transforms.Normalize(mean, std)\n",
    "])"
   ]
  },
  {
   "cell_type": "code",
   "execution_count": null,
   "id": "bda4de2b-229c-4c4e-94f9-2c54efe9e3a4",
   "metadata": {},
   "outputs": [],
   "source": [
    "train_dataset_longtail = datasets.ImageFolder(root='./datasets_longtail/train', transform=transform)\n",
    "train_loader_longtail = DataLoader(train_dataset_longtail, batch_size=32, shuffle=True, num_workers=4, pin_memory=True)\n",
    "\n",
    "test_dataset_longtail = datasets.ImageFolder(root='./datasets_longtail/test', transform=transform)\n",
    "test_loader_longtail = DataLoader(test_dataset_longtail, batch_size=32, shuffle=False, num_workers=4, pin_memory=True)"
   ]
  },
  {
   "cell_type": "code",
   "execution_count": null,
   "id": "0bfcb657-06e6-43d6-8b2e-2a230020ff34",
   "metadata": {},
   "outputs": [],
   "source": [
    "classifierTrain(50,train_loader_longtail,test_loader_longtail,'SVM')"
   ]
  },
  {
   "cell_type": "code",
   "execution_count": null,
   "id": "f9bb2f8c-5c7a-4f36-afbd-27078670f01e",
   "metadata": {},
   "outputs": [],
   "source": [
    "targets = train_dataset_longtail.targets\n",
    "class_counts = np.bincount(targets)\n",
    "num_classes = len(class_counts)\n",
    "\n",
    "class_weights = 1. / class_counts\n",
    "sample_weights = [class_weights[t] for t in targets]\n",
    "sample_weights = torch.DoubleTensor(sample_weights)\n",
    "\n",
    "sampler = WeightedRandomSampler(weights=sample_weights,\n",
    "                                num_samples=len(sample_weights),\n",
    "                                replacement=True)\n",
    "\n",
    "train_loader_resampling = DataLoader(train_dataset_longtail,\n",
    "                                   batch_size=32,\n",
    "                                   sampler=sampler,\n",
    "                                   num_workers=4,\n",
    "                                   pin_memory=True)"
   ]
  },
  {
   "cell_type": "code",
   "execution_count": null,
   "id": "d5118c87-0266-4113-a76b-4224b6872c77",
   "metadata": {},
   "outputs": [],
   "source": [
    "classifierTrain(50,train_loader_resampling,test_loader_longtail,'SVM')"
   ]
  }
 ],
 "metadata": {
  "kernelspec": {
   "display_name": "Python 3 (ipykernel)",
   "language": "python",
   "name": "python3"
  },
  "language_info": {
   "codemirror_mode": {
    "name": "ipython",
    "version": 3
   },
   "file_extension": ".py",
   "mimetype": "text/x-python",
   "name": "python",
   "nbconvert_exporter": "python",
   "pygments_lexer": "ipython3",
   "version": "3.12.9"
  }
 },
 "nbformat": 4,
 "nbformat_minor": 5
}
