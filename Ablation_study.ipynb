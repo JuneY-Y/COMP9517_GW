{
 "cells": [
  {
   "cell_type": "code",
   "execution_count": 1,
   "id": "1f8e67ce-aa17-4594-b922-f0746d4920fe",
   "metadata": {},
   "outputs": [],
   "source": [
    "import torch\n",
    "from torch import nn\n",
    "from torchvision import datasets, transforms, models\n",
    "from torch.utils.data import DataLoader\n",
    "import matplotlib.pyplot as plt\n",
    "import train_and_test_model\n",
    "from train_and_test_model import trainModel,testModel\n",
    "from torchvision.transforms import TrivialAugmentWide,AutoAugment, AutoAugmentPolicy\n",
    "from ResNet_Classifier import classifierTrain"
   ]
  },
  {
   "cell_type": "code",
   "execution_count": 3,
   "id": "78cc765a-c793-4281-b10a-c5479fc5633d",
   "metadata": {},
   "outputs": [],
   "source": [
    "mean = [0.485, 0.456, 0.406]\n",
    "std = [0.229, 0.224, 0.225]\n",
    "\n",
    "transform = transforms.Compose([\n",
    "    transforms.Resize((224, 224)),  # ResNet 通常用224×224\n",
    "    transforms.ToTensor(),\n",
    "    transforms.Normalize(mean, std)\n",
    "])\n",
    "\n",
    "train_dataset_origin = datasets.ImageFolder(root='./datasets/train', transform=transform)\n",
    "train_loader_origin = DataLoader(train_dataset_origin, batch_size=32, shuffle=True, num_workers=4, pin_memory=True)\n",
    "\n",
    "test_dataset_origin = datasets.ImageFolder(root='./datasets/test', transform=transform)\n",
    "test_loader_origin = DataLoader(test_dataset_origin, batch_size=32, shuffle=False, num_workers=4, pin_memory=True)\n",
    "\n",
    "val_dataset_origin = datasets.ImageFolder(root='./datasets/val', transform=transform)\n",
    "val_loader_origin = DataLoader(val_dataset_origin, batch_size=32, shuffle=False, num_workers=4, pin_memory=True)\n"
   ]
  },
  {
   "cell_type": "markdown",
   "id": "226b0440-8b8d-4d63-b970-df46b852f47e",
   "metadata": {},
   "source": [
    "## BaseLine: ResNet-50 + SVM Classifier"
   ]
  },
  {
   "cell_type": "code",
   "execution_count": 4,
   "id": "2101538b-5ebc-4847-b74f-49d8a79b6a70",
   "metadata": {
    "collapsed": true,
    "jupyter": {
     "outputs_hidden": true
    }
   },
   "outputs": [
    {
     "name": "stdout",
     "output_type": "stream",
     "text": [
      "ResNet50 SVM Test Accuracy:0.9611111111111111\n",
      "\n",
      "📊 Classification Report:\n",
      "              precision    recall  f1-score   support\n",
      "\n",
      "           0     0.9667    0.9667    0.9667       120\n",
      "           1     0.9487    0.9250    0.9367       120\n",
      "           2     0.9915    0.9667    0.9789       120\n",
      "           3     0.9667    0.9667    0.9667       120\n",
      "           4     0.9833    0.9833    0.9833       120\n",
      "           5     0.9600    1.0000    0.9796       120\n",
      "           6     0.9744    0.9500    0.9620       120\n",
      "           7     0.9658    0.9417    0.9536       120\n",
      "           8     0.9339    0.9417    0.9378       120\n",
      "           9     0.9750    0.9750    0.9750       120\n",
      "          10     0.9831    0.9667    0.9748       120\n",
      "          11     0.9590    0.9750    0.9669       120\n",
      "          12     0.9256    0.9333    0.9295       120\n",
      "          13     0.9752    0.9833    0.9793       120\n",
      "          14     0.9113    0.9417    0.9262       120\n",
      "\n",
      "    accuracy                         0.9611      1800\n",
      "   macro avg     0.9613    0.9611    0.9611      1800\n",
      "weighted avg     0.9613    0.9611    0.9611      1800\n",
      "\n",
      "🔍 Confusion Matrix:\n",
      "[[116   0   0   0   0   0   1   1   0   0   0   0   0   0   2]\n",
      " [  1 111   0   0   0   0   0   0   0   0   1   1   3   1   2]\n",
      " [  0   0 116   0   0   0   0   0   2   0   0   1   0   0   1]\n",
      " [  0   0   0 116   0   0   0   0   0   0   0   0   2   1   1]\n",
      " [  0   0   0   0 118   0   0   0   0   1   0   0   0   0   1]\n",
      " [  0   0   0   0   0 120   0   0   0   0   0   0   0   0   0]\n",
      " [  0   0   0   0   0   3 114   1   0   0   0   0   0   1   1]\n",
      " [  0   1   0   1   0   1   1 113   0   0   0   0   3   0   0]\n",
      " [  1   0   0   0   0   0   1   0 113   1   1   2   0   0   1]\n",
      " [  0   0   0   0   2   0   0   0   1 117   0   0   0   0   0]\n",
      " [  2   1   0   0   0   0   0   1   0   0 116   0   0   0   0]\n",
      " [  0   0   0   1   0   0   0   0   2   0   0 117   0   0   0]\n",
      " [  0   3   0   2   0   0   0   1   0   0   0   1 112   0   1]\n",
      " [  0   0   0   0   0   0   0   0   1   0   0   0   0 118   1]\n",
      " [  0   1   1   0   0   1   0   0   2   1   0   0   1   0 113]]\n"
     ]
    }
   ],
   "source": [
    "classifierTrain(50,train_loader_origin,test_loader_origin,'SVM')"
   ]
  },
  {
   "cell_type": "markdown",
   "id": "7a89e6c3-6785-4638-be68-7afc2d7250ab",
   "metadata": {},
   "source": [
    "## Experienment 1: change Resnet layer"
   ]
  },
  {
   "cell_type": "code",
   "execution_count": 5,
   "id": "96cfcfcd-2e78-4a7f-a12d-b0dd5a849d99",
   "metadata": {
    "collapsed": true,
    "jupyter": {
     "outputs_hidden": true
    }
   },
   "outputs": [
    {
     "name": "stdout",
     "output_type": "stream",
     "text": [
      "ResNet18 SVM Test Accuracy:0.9416666666666667\n",
      "\n",
      "📊 Classification Report:\n",
      "              precision    recall  f1-score   support\n",
      "\n",
      "           0     0.9426    0.9583    0.9504       120\n",
      "           1     0.8661    0.9167    0.8907       120\n",
      "           2     0.9504    0.9583    0.9544       120\n",
      "           3     0.9310    0.9000    0.9153       120\n",
      "           4     1.0000    0.9750    0.9873       120\n",
      "           5     0.9914    0.9583    0.9746       120\n",
      "           6     0.9669    0.9750    0.9710       120\n",
      "           7     0.9328    0.9250    0.9289       120\n",
      "           8     0.9322    0.9167    0.9244       120\n",
      "           9     0.9508    0.9667    0.9587       120\n",
      "          10     0.9915    0.9667    0.9789       120\n",
      "          11     0.9496    0.9417    0.9456       120\n",
      "          12     0.8760    0.8833    0.8797       120\n",
      "          13     0.9667    0.9667    0.9667       120\n",
      "          14     0.8871    0.9167    0.9016       120\n",
      "\n",
      "    accuracy                         0.9417      1800\n",
      "   macro avg     0.9423    0.9417    0.9419      1800\n",
      "weighted avg     0.9423    0.9417    0.9419      1800\n",
      "\n",
      "🔍 Confusion Matrix:\n",
      "[[115   0   0   0   0   0   2   1   0   0   0   0   0   0   2]\n",
      " [  1 110   0   2   0   0   0   1   0   0   1   0   4   0   1]\n",
      " [  0   1 115   0   0   0   0   0   1   0   0   2   0   0   1]\n",
      " [  0   3   0 108   0   0   0   2   2   0   0   1   2   2   0]\n",
      " [  0   0   0   0 117   0   0   0   0   2   0   0   0   0   1]\n",
      " [  0   0   0   0   0 115   1   0   1   1   0   0   0   0   2]\n",
      " [  1   0   0   0   0   0 117   0   0   0   0   0   0   1   1]\n",
      " [  0   0   2   1   0   1   0 111   0   0   0   0   5   0   0]\n",
      " [  2   0   2   0   0   0   0   0 110   1   0   1   0   1   3]\n",
      " [  0   0   0   0   0   0   1   0   2 116   0   0   0   0   1]\n",
      " [  0   1   0   0   0   0   0   1   0   0 116   1   1   0   0]\n",
      " [  0   5   1   0   0   0   0   0   1   0   0 113   0   0   0]\n",
      " [  0   6   0   4   0   0   0   2   0   0   0   1 106   0   1]\n",
      " [  0   0   1   0   0   0   0   1   0   0   0   0   1 116   1]\n",
      " [  3   1   0   1   0   0   0   0   1   2   0   0   2   0 110]]\n"
     ]
    }
   ],
   "source": [
    "classifierTrain(18,train_loader_origin,test_loader_origin,'SVM')"
   ]
  },
  {
   "cell_type": "code",
   "execution_count": 6,
   "id": "ff3daf0c-3758-484c-b0a8-533adfc87a23",
   "metadata": {
    "collapsed": true,
    "jupyter": {
     "outputs_hidden": true
    }
   },
   "outputs": [
    {
     "name": "stdout",
     "output_type": "stream",
     "text": [
      "ResNet101 SVM Test Accuracy:0.9533333333333334\n",
      "\n",
      "📊 Classification Report:\n",
      "              precision    recall  f1-score   support\n",
      "\n",
      "           0     0.9280    0.9667    0.9469       120\n",
      "           1     0.9316    0.9083    0.9198       120\n",
      "           2     0.9915    0.9750    0.9832       120\n",
      "           3     0.9127    0.9583    0.9350       120\n",
      "           4     0.9915    0.9750    0.9832       120\n",
      "           5     0.9754    0.9917    0.9835       120\n",
      "           6     0.9752    0.9833    0.9793       120\n",
      "           7     0.9823    0.9250    0.9528       120\n",
      "           8     0.9322    0.9167    0.9244       120\n",
      "           9     0.9512    0.9750    0.9630       120\n",
      "          10     0.9832    0.9750    0.9791       120\n",
      "          11     0.9748    0.9667    0.9707       120\n",
      "          12     0.9167    0.9167    0.9167       120\n",
      "          13     0.9669    0.9750    0.9710       120\n",
      "          14     0.8917    0.8917    0.8917       120\n",
      "\n",
      "    accuracy                         0.9533      1800\n",
      "   macro avg     0.9537    0.9533    0.9533      1800\n",
      "weighted avg     0.9537    0.9533    0.9533      1800\n",
      "\n",
      "🔍 Confusion Matrix:\n",
      "[[116   0   0   0   0   0   1   0   1   0   0   0   0   0   2]\n",
      " [  2 109   0   0   0   0   0   0   2   0   1   1   3   0   2]\n",
      " [  0   0 117   0   0   0   0   0   0   0   0   0   0   0   3]\n",
      " [  0   0   0 115   0   0   0   0   0   0   0   0   2   2   1]\n",
      " [  0   0   0   0 117   0   0   0   1   2   0   0   0   0   0]\n",
      " [  0   0   0   0   0 119   1   0   0   0   0   0   0   0   0]\n",
      " [  0   0   0   0   0   1 118   1   0   0   0   0   0   0   0]\n",
      " [  1   0   0   2   0   1   1 111   0   0   0   0   3   1   0]\n",
      " [  3   1   0   0   0   0   0   0 110   2   0   1   0   0   3]\n",
      " [  0   0   0   0   1   0   0   0   2 117   0   0   0   0   0]\n",
      " [  0   1   0   0   0   0   0   0   0   0 117   0   1   1   0]\n",
      " [  0   1   0   1   0   0   0   0   1   0   1 116   0   0   0]\n",
      " [  0   3   0   4   0   0   0   1   0   0   0   1 110   0   1]\n",
      " [  0   0   0   2   0   0   0   0   0   0   0   0   0 117   1]\n",
      " [  3   2   1   2   0   1   0   0   1   2   0   0   1   0 107]]\n"
     ]
    }
   ],
   "source": [
    "classifierTrain(101,train_loader_origin,test_loader_origin,'SVM')"
   ]
  },
  {
   "cell_type": "markdown",
   "id": "486f52f5-b432-4fa4-9cfd-d88b783eb1c8",
   "metadata": {},
   "source": [
    "## Experienment 2: change Classifier"
   ]
  },
  {
   "cell_type": "code",
   "execution_count": 7,
   "id": "f240399c-34d1-4379-b58e-b1f95cc0e080",
   "metadata": {
    "collapsed": true,
    "jupyter": {
     "outputs_hidden": true
    }
   },
   "outputs": [
    {
     "name": "stdout",
     "output_type": "stream",
     "text": [
      "ResNet50 KNN Test Accuracy:0.9183333333333333\n",
      "\n",
      "📊 Classification Report:\n",
      "              precision    recall  f1-score   support\n",
      "\n",
      "           0     0.9268    0.9500    0.9383       120\n",
      "           1     0.8235    0.8167    0.8201       120\n",
      "           2     0.9583    0.9583    0.9583       120\n",
      "           3     0.9322    0.9167    0.9244       120\n",
      "           4     0.9832    0.9750    0.9791       120\n",
      "           5     0.9141    0.9750    0.9435       120\n",
      "           6     0.9339    0.9417    0.9378       120\n",
      "           7     0.9391    0.9000    0.9191       120\n",
      "           8     0.8571    0.8500    0.8536       120\n",
      "           9     0.9421    0.9500    0.9461       120\n",
      "          10     0.9735    0.9167    0.9442       120\n",
      "          11     0.9407    0.9250    0.9328       120\n",
      "          12     0.8134    0.9083    0.8583       120\n",
      "          13     0.9667    0.9667    0.9667       120\n",
      "          14     0.8839    0.8250    0.8534       120\n",
      "\n",
      "    accuracy                         0.9183      1800\n",
      "   macro avg     0.9192    0.9183    0.9184      1800\n",
      "weighted avg     0.9192    0.9183    0.9184      1800\n",
      "\n",
      "🔍 Confusion Matrix:\n",
      "[[114   0   0   0   0   0   3   0   0   0   0   0   1   0   2]\n",
      " [  1  98   0   2   0   0   0   3   1   1   0   1  11   0   2]\n",
      " [  0   0 115   0   0   0   0   0   2   1   0   1   0   0   1]\n",
      " [  0   3   0 110   0   0   0   0   1   0   0   0   5   1   0]\n",
      " [  0   0   0   0 117   0   0   0   0   2   0   0   0   0   1]\n",
      " [  0   0   0   0   0 117   3   0   0   0   0   0   0   0   0]\n",
      " [  0   0   0   0   0   5 113   1   0   0   0   0   0   1   0]\n",
      " [  0   1   0   0   0   3   0 108   0   0   2   0   5   1   0]\n",
      " [  2   2   3   1   0   0   2   0 102   2   1   1   0   0   4]\n",
      " [  0   0   0   0   1   1   0   0   4 114   0   0   0   0   0]\n",
      " [  0   2   0   0   0   0   0   2   1   0 110   4   1   0   0]\n",
      " [  0   3   0   3   0   0   0   1   2   0   0 111   0   0   0]\n",
      " [  0   6   0   2   0   0   0   0   1   0   0   0 109   0   2]\n",
      " [  2   0   0   0   0   1   0   0   0   0   0   0   0 116   1]\n",
      " [  4   4   2   0   1   1   0   0   5   1   0   0   2   1  99]]\n"
     ]
    }
   ],
   "source": [
    "classifierTrain(50,train_loader_origin,test_loader_origin,'KNN')"
   ]
  },
  {
   "cell_type": "code",
   "execution_count": 8,
   "id": "4166e019-e7db-4c2f-a820-9520823ae14f",
   "metadata": {
    "collapsed": true,
    "jupyter": {
     "outputs_hidden": true
    }
   },
   "outputs": [
    {
     "name": "stdout",
     "output_type": "stream",
     "text": [
      "ResNet50 MLP Test Accuracy:0.9483333333333334\n",
      "\n",
      "📊 Classification Report:\n",
      "              precision    recall  f1-score   support\n",
      "\n",
      "           0     0.9587    0.9667    0.9627       120\n",
      "           1     0.9474    0.9000    0.9231       120\n",
      "           2     0.9748    0.9667    0.9707       120\n",
      "           3     0.9661    0.9500    0.9580       120\n",
      "           4     0.9669    0.9750    0.9710       120\n",
      "           5     0.9504    0.9583    0.9544       120\n",
      "           6     0.9426    0.9583    0.9504       120\n",
      "           7     0.9576    0.9417    0.9496       120\n",
      "           8     0.9322    0.9167    0.9244       120\n",
      "           9     0.9500    0.9500    0.9500       120\n",
      "          10     0.9661    0.9500    0.9580       120\n",
      "          11     0.9286    0.9750    0.9512       120\n",
      "          12     0.8898    0.9417    0.9150       120\n",
      "          13     0.9664    0.9583    0.9623       120\n",
      "          14     0.9322    0.9167    0.9244       120\n",
      "\n",
      "    accuracy                         0.9483      1800\n",
      "   macro avg     0.9487    0.9483    0.9483      1800\n",
      "weighted avg     0.9487    0.9483    0.9483      1800\n",
      "\n",
      "🔍 Confusion Matrix:\n",
      "[[116   0   0   0   0   0   2   0   0   0   0   0   0   0   2]\n",
      " [  1 108   0   1   0   0   0   1   1   0   1   1   5   1   0]\n",
      " [  0   0 116   0   0   0   0   0   0   0   0   2   0   0   2]\n",
      " [  0   0   0 114   0   0   0   0   0   0   1   1   2   1   1]\n",
      " [  0   0   0   0 117   0   0   0   1   2   0   0   0   0   0]\n",
      " [  0   0   1   0   0 115   2   2   0   0   0   0   0   0   0]\n",
      " [  0   0   0   0   0   3 115   1   0   0   0   0   0   1   0]\n",
      " [  0   0   0   0   0   1   1 113   0   0   0   0   5   0   0]\n",
      " [  2   0   1   0   0   0   1   0 110   2   1   2   0   0   1]\n",
      " [  0   0   0   0   4   0   1   0   1 114   0   0   0   0   0]\n",
      " [  0   2   0   0   0   0   0   0   0   0 114   2   1   1   0]\n",
      " [  0   0   0   0   0   0   0   0   2   0   1 117   0   0   0]\n",
      " [  0   2   0   3   0   0   0   0   0   0   0   1 113   0   1]\n",
      " [  1   1   0   0   0   1   0   1   0   0   0   0   0 115   1]\n",
      " [  1   1   1   0   0   1   0   0   3   2   0   0   1   0 110]]\n"
     ]
    },
    {
     "name": "stderr",
     "output_type": "stream",
     "text": [
      "/root/CV/ResNet_Classifier.py:52: UserWarning: To copy construct from a tensor, it is recommended to use sourceTensor.clone().detach() or sourceTensor.clone().detach().requires_grad_(True), rather than torch.tensor(sourceTensor).\n",
      "  X_train = torch.tensor(train_features, dtype=torch.float32).to(device)\n",
      "/root/CV/ResNet_Classifier.py:53: UserWarning: To copy construct from a tensor, it is recommended to use sourceTensor.clone().detach() or sourceTensor.clone().detach().requires_grad_(True), rather than torch.tensor(sourceTensor).\n",
      "  y_train = torch.tensor(train_labels, dtype=torch.long).to(device)\n",
      "/root/CV/ResNet_Classifier.py:54: UserWarning: To copy construct from a tensor, it is recommended to use sourceTensor.clone().detach() or sourceTensor.clone().detach().requires_grad_(True), rather than torch.tensor(sourceTensor).\n",
      "  X_test = torch.tensor(test_features, dtype=torch.float32).to(device)\n"
     ]
    }
   ],
   "source": [
    "classifierTrain(50,train_loader_origin,test_loader_origin,'MLP')"
   ]
  },
  {
   "cell_type": "code",
   "execution_count": 9,
   "id": "bcd8277d-e313-41e3-b486-9d4ceb169e66",
   "metadata": {
    "collapsed": true,
    "jupyter": {
     "outputs_hidden": true
    }
   },
   "outputs": [
    {
     "name": "stdout",
     "output_type": "stream",
     "text": [
      "ResNet50 <ResNet_Classifier.ProtoNetClassifier object at 0x7f162135e960> Test Accuracy:0.8238888888888889\n",
      "\n",
      "📊 Classification Report:\n",
      "              precision    recall  f1-score   support\n",
      "\n",
      "           0     0.9561    0.9083    0.9316       120\n",
      "           1     0.5985    0.6833    0.6381       120\n",
      "           2     0.9908    0.9000    0.9432       120\n",
      "           3     0.8130    0.8333    0.8230       120\n",
      "           4     1.0000    0.9000    0.9474       120\n",
      "           5     0.9293    0.7667    0.8402       120\n",
      "           6     0.7760    0.8083    0.7918       120\n",
      "           7     0.8099    0.8167    0.8133       120\n",
      "           8     0.6992    0.7167    0.7078       120\n",
      "           9     0.7877    0.9583    0.8647       120\n",
      "          10     0.9412    0.8000    0.8649       120\n",
      "          11     0.8772    0.8333    0.8547       120\n",
      "          12     0.7143    0.8333    0.7692       120\n",
      "          13     0.8537    0.8750    0.8642       120\n",
      "          14     0.7500    0.7250    0.7373       120\n",
      "\n",
      "    accuracy                         0.8239      1800\n",
      "   macro avg     0.8331    0.8239    0.8261      1800\n",
      "weighted avg     0.8331    0.8239    0.8261      1800\n",
      "\n",
      "🔍 Confusion Matrix:\n",
      "[[109   1   0   0   0   0   2   2   1   0   0   0   0   1   4]\n",
      " [  0  82   0   9   0   0   0   7   0   0   0   1  17   1   3]\n",
      " [  0   0 108   0   0   0   0   0   9   0   0   1   1   0   1]\n",
      " [  0  13   0 100   0   0   0   0   0   0   0   0   3   3   1]\n",
      " [  0   0   0   0 108   0   1   0   1  10   0   0   0   0   0]\n",
      " [  0   0   0   0   0  92  22   2   2   2   0   0   0   0   0]\n",
      " [  0   3   0   0   0   3  97   4   6   0   0   0   0   0   7]\n",
      " [  0   6   0   0   0   3   1  98   1   0   0   0   6   4   1]\n",
      " [  2   2   0   1   0   0   1   0  86  15   0   4   0   1   8]\n",
      " [  0   0   0   0   0   1   1   0   2 115   0   0   0   0   1]\n",
      " [  1   3   0   1   0   0   0   2   1   0  96   6   6   4   0]\n",
      " [  0   5   0   2   0   0   0   1   5   0   2 100   3   1   1]\n",
      " [  0   8   0   8   0   0   0   3   0   0   0   1 100   0   0]\n",
      " [  1   3   0   1   0   0   0   1   1   0   4   0   2 105   2]\n",
      " [  1  11   1   1   0   0   0   1   8   4   0   1   2   3  87]]\n"
     ]
    }
   ],
   "source": [
    "classifierTrain(50,train_loader_origin,test_loader_origin,'Proto')"
   ]
  },
  {
   "cell_type": "markdown",
   "id": "3edbe762-4e62-4907-b2e9-443d21cfbe55",
   "metadata": {},
   "source": [
    "## Experienment 3: use fine-tuning"
   ]
  },
  {
   "cell_type": "code",
   "execution_count": 10,
   "id": "ab58f50b-3a22-470d-beeb-54c60d7fd76c",
   "metadata": {
    "collapsed": true,
    "jupyter": {
     "outputs_hidden": true
    }
   },
   "outputs": [
    {
     "name": "stderr",
     "output_type": "stream",
     "text": [
      "/root/miniconda3/lib/python3.12/site-packages/torchvision/models/_utils.py:208: UserWarning: The parameter 'pretrained' is deprecated since 0.13 and may be removed in the future, please use 'weights' instead.\n",
      "  warnings.warn(\n",
      "/root/miniconda3/lib/python3.12/site-packages/torchvision/models/_utils.py:223: UserWarning: Arguments other than a weight enum or `None` for 'weights' are deprecated since 0.13 and may be removed in the future. The current behavior is equivalent to passing `weights=ResNet50_Weights.IMAGENET1K_V1`. You can also use `weights=ResNet50_Weights.DEFAULT` to get the most up-to-date weights.\n",
      "  warnings.warn(msg)\n",
      "/root/CV/train_and_test_model.py:87: FutureWarning: You are using `torch.load` with `weights_only=False` (the current default value), which uses the default pickle module implicitly. It is possible to construct malicious pickle data which will execute arbitrary code during unpickling (See https://github.com/pytorch/pytorch/blob/main/SECURITY.md#untrusted-models for more details). In a future release, the default value for `weights_only` will be flipped to `True`. This limits the functions that could be executed during unpickling. Arbitrary objects will no longer be allowed to be loaded via this mode unless they are explicitly allowlisted by the user via `torch.serialization.add_safe_globals`. We recommend you start setting `weights_only=True` for any use case where you don't have full control of the loaded file. Please open an issue on GitHub for any issues related to this experimental feature.\n",
      "  bestweight = torch.load(bestweight_path)\n",
      "/root/CV/train_and_test_model.py:175: FutureWarning: You are using `torch.load` with `weights_only=False` (the current default value), which uses the default pickle module implicitly. It is possible to construct malicious pickle data which will execute arbitrary code during unpickling (See https://github.com/pytorch/pytorch/blob/main/SECURITY.md#untrusted-models for more details). In a future release, the default value for `weights_only` will be flipped to `True`. This limits the functions that could be executed during unpickling. Arbitrary objects will no longer be allowed to be loaded via this mode unless they are explicitly allowlisted by the user via `torch.serialization.add_safe_globals`. We recommend you start setting `weights_only=True` for any use case where you don't have full control of the loaded file. Please open an issue on GitHub for any issues related to this experimental feature.\n",
      "  bestweight = torch.load(bestweight_path)\n"
     ]
    },
    {
     "name": "stdout",
     "output_type": "stream",
     "text": [
      "✅ ResNet-50, Accuracy: 93.17%\n",
      "\n",
      "📊 Classification Report:\n",
      "              precision    recall  f1-score   support\n",
      "\n",
      "           0     0.9008    0.9833    0.9402       120\n",
      "           1     0.8871    0.9167    0.9016       120\n",
      "           2     0.9504    0.9583    0.9544       120\n",
      "           3     0.9818    0.9000    0.9391       120\n",
      "           4     1.0000    0.9750    0.9873       120\n",
      "           5     0.9360    0.9750    0.9551       120\n",
      "           6     0.9720    0.8667    0.9163       120\n",
      "           7     0.9714    0.8500    0.9067       120\n",
      "           8     0.8102    0.9250    0.8638       120\n",
      "           9     0.9355    0.9667    0.9508       120\n",
      "          10     0.9590    0.9750    0.9669       120\n",
      "          11     0.9344    0.9500    0.9421       120\n",
      "          12     0.8880    0.9250    0.9061       120\n",
      "          13     0.9831    0.9667    0.9748       120\n",
      "          14     0.9018    0.8417    0.8707       120\n",
      "\n",
      "    accuracy                         0.9317      1800\n",
      "   macro avg     0.9341    0.9317    0.9317      1800\n",
      "weighted avg     0.9341    0.9317    0.9317      1800\n",
      "\n",
      "🔍 Confusion Matrix:\n",
      "[[118   0   1   0   0   0   1   0   0   0   0   0   0   0   0]\n",
      " [  1 110   0   0   0   0   0   0   3   0   2   1   3   0   0]\n",
      " [  0   0 115   0   0   0   0   0   1   0   0   1   0   0   3]\n",
      " [  0   1   0 108   0   1   0   1   1   0   0   2   5   1   0]\n",
      " [  0   0   0   0 117   0   0   0   1   2   0   0   0   0   0]\n",
      " [  0   0   0   0   0 117   1   0   1   1   0   0   0   0   0]\n",
      " [  1   2   0   0   0   6 104   2   3   1   0   0   0   0   1]\n",
      " [  4   3   0   0   0   0   0 102   1   0   2   0   5   1   2]\n",
      " [  1   2   3   0   0   0   0   0 111   1   0   1   0   0   1]\n",
      " [  0   0   0   0   0   0   1   0   0 116   1   0   0   0   2]\n",
      " [  1   1   0   0   0   0   0   0   0   0 117   1   0   0   0]\n",
      " [  0   2   1   0   0   0   0   0   3   0   0 114   0   0   0]\n",
      " [  1   2   0   2   0   0   0   0   1   0   0   1 111   0   2]\n",
      " [  0   0   0   0   0   0   0   0   3   0   0   0   1 116   0]\n",
      " [  4   1   1   0   0   1   0   0   8   3   0   1   0   0 101]]\n"
     ]
    }
   ],
   "source": [
    "trainModel(50,train_loader_origin,val_loader_origin,'origin')\n",
    "testModel(50,test_loader_origin,'origin')"
   ]
  }
 ],
 "metadata": {
  "kernelspec": {
   "display_name": "Python 3 (ipykernel)",
   "language": "python",
   "name": "python3"
  },
  "language_info": {
   "codemirror_mode": {
    "name": "ipython",
    "version": 3
   },
   "file_extension": ".py",
   "mimetype": "text/x-python",
   "name": "python",
   "nbconvert_exporter": "python",
   "pygments_lexer": "ipython3",
   "version": "3.12.9"
  }
 },
 "nbformat": 4,
 "nbformat_minor": 5
}
