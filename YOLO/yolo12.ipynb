{
 "cells": [
  {
   "cell_type": "code",
   "execution_count": null,
   "id": "64900fb5",
   "metadata": {},
   "outputs": [],
   "source": [
    "from ultralytics import YOLO\n",
    "model = YOLO(\"yolo12n-cls.yaml\") \n",
    "model = YOLO(\"yolo12n.pt\") \n",
    "model = YOLO(\"yolo12n-cls.yaml\").load(\"yolo12n.pt\")  # build from YAML and transfer weights\n",
    "\n",
    "# Train the model\n",
    "results = model.train(data=\"datasets\", epochs=100, imgsz=64)\n",
    "\n",
    "model = YOLO(\"runs/classify/train6/weights/best.pt\") \n",
    "\n",
    "results = model(\"datasets/test/Mountain/121.jpg\")"
   ]
  }
 ],
 "metadata": {
  "language_info": {
   "name": "python"
  }
 },
 "nbformat": 4,
 "nbformat_minor": 5
}
